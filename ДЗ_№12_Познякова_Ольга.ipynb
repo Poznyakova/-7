{
  "nbformat": 4,
  "nbformat_minor": 0,
  "metadata": {
    "colab": {
      "name": "ДЗ №12 Познякова Ольга.ipynb",
      "private_outputs": true,
      "provenance": [],
      "authorship_tag": "ABX9TyOg1j5SYGIctFin0Qkso8kz",
      "include_colab_link": true
    },
    "kernelspec": {
      "name": "python3",
      "display_name": "Python 3"
    },
    "language_info": {
      "name": "python"
    }
  },
  "cells": [
    {
      "cell_type": "markdown",
      "metadata": {
        "id": "view-in-github",
        "colab_type": "text"
      },
      "source": [
        "<a href=\"https://colab.research.google.com/github/Poznyakova/-7/blob/main/%D0%94%D0%97_%E2%84%9612_%D0%9F%D0%BE%D0%B7%D0%BD%D1%8F%D0%BA%D0%BE%D0%B2%D0%B0_%D0%9E%D0%BB%D1%8C%D0%B3%D0%B0.ipynb\" target=\"_parent\"><img src=\"https://colab.research.google.com/assets/colab-badge.svg\" alt=\"Open In Colab\"/></a>"
      ]
    },
    {
      "cell_type": "code",
      "execution_count": null,
      "metadata": {
        "id": "E_IfCTn4I4hO"
      },
      "outputs": [],
      "source": [
        "!pip install pyspark"
      ]
    },
    {
      "cell_type": "markdown",
      "source": [
        "1. Загружаем библиотеки"
      ],
      "metadata": {
        "id": "I5bio3QyJ9yc"
      }
    },
    {
      "cell_type": "code",
      "source": [
        "import pandas as pd\n",
        "import numpy as np\n",
        "\n",
        "from pyspark.context import SparkContext\n",
        "from pyspark.sql.session import SparkSession #to define a SparkSession\n",
        "\n",
        "sc = SparkContext('local') #spark connection\n",
        "spark = SparkSession(sc) # open spark_session"
      ],
      "metadata": {
        "id": "atzYkgK5KEZs"
      },
      "execution_count": null,
      "outputs": []
    },
    {
      "cell_type": "markdown",
      "source": [
        "2. Загружаем данные при помощи spark.read.csv из приложенного файла."
      ],
      "metadata": {
        "id": "zpNelbQqKFOe"
      }
    },
    {
      "cell_type": "code",
      "source": [
        "df = spark.read.options(sep=\",\", header=True, quote=\"\").csv('iris.csv')"
      ],
      "metadata": {
        "id": "G_Ynt_yuKFcD"
      },
      "execution_count": null,
      "outputs": []
    },
    {
      "cell_type": "markdown",
      "source": [
        "выводим первые 5 строк данных"
      ],
      "metadata": {
        "id": "uqqk9-fzKFp7"
      }
    },
    {
      "cell_type": "code",
      "source": [
        "df.show(5)"
      ],
      "metadata": {
        "id": "RZApDE5NKF7U"
      },
      "execution_count": null,
      "outputs": []
    },
    {
      "cell_type": "markdown",
      "source": [
        "Выводим колонки"
      ],
      "metadata": {
        "id": "yEIHcr92K88u"
      }
    },
    {
      "cell_type": "code",
      "source": [
        "df.columns"
      ],
      "metadata": {
        "id": "3SjwJB3nLAI5"
      },
      "execution_count": null,
      "outputs": []
    },
    {
      "cell_type": "markdown",
      "source": [
        "Преобразуем названия колонок, создаем новый датафрейм"
      ],
      "metadata": {
        "id": "uR28E8xyLK_R"
      }
    },
    {
      "cell_type": "code",
      "source": [
        "newColumns = [\"sepal_length\",\"sepal_width\",\"petal_length\",\"petal_width\",\"variety\"]\n",
        "df_new = df.toDF(*newColumns)\n",
        "df_new.show(5)"
      ],
      "metadata": {
        "id": "MfKuC3q8LPDV"
      },
      "execution_count": null,
      "outputs": []
    },
    {
      "cell_type": "code",
      "source": [
        "from pyspark.sql.functions import *\n",
        "#from pyspark.sql.functions import col, udf\n",
        "from pyspark.sql.types import DoubleType, IntegerType, DateType"
      ],
      "metadata": {
        "id": "wZhuw8c_LgxV"
      },
      "execution_count": null,
      "outputs": []
    },
    {
      "cell_type": "markdown",
      "source": [
        "Удаляем двойные кавычки с первого до последнеего атрибута"
      ],
      "metadata": {
        "id": "irZEzlirLkLM"
      }
    },
    {
      "cell_type": "code",
      "source": [
        "df_new = df_new.withColumn(\"sepal_length\", regexp_replace(col(\"sepal_length\"), '\"', ''))\\\n",
        "    .withColumn(\"variety\", regexp_replace(col(\"variety\"), '\"', ''))\n",
        "df_new.show(5)"
      ],
      "metadata": {
        "id": "AFc2a6LbLkYY"
      },
      "execution_count": null,
      "outputs": []
    },
    {
      "cell_type": "markdown",
      "source": [
        "Определяем типы атрибутов"
      ],
      "metadata": {
        "id": "PhU1G2IAMZmo"
      }
    },
    {
      "cell_type": "code",
      "source": [
        "df_new.printSchema()"
      ],
      "metadata": {
        "id": "TGXm1L_dMaZh"
      },
      "execution_count": null,
      "outputs": []
    },
    {
      "cell_type": "markdown",
      "source": [
        "Преобразуем в другой тип данных"
      ],
      "metadata": {
        "id": "uBLYRnk9MjDR"
      }
    },
    {
      "cell_type": "code",
      "source": [
        "df_new = df_new \\\n",
        "    .withColumn('sepal_length', col('sepal_length').cast(DoubleType())) \\\n",
        "    .withColumn('sepal_width', col('sepal_width').cast(DoubleType())) \\\n",
        "    .withColumn('petal_length', col('petal_length').cast(DoubleType())) \\\n",
        "    .withColumn('petal_width', col('petal_width').cast(DoubleType()))"
      ],
      "metadata": {
        "id": "h6Xjc9hmMjbe"
      },
      "execution_count": null,
      "outputs": []
    },
    {
      "cell_type": "code",
      "source": [
        "df_new.printSchema()"
      ],
      "metadata": {
        "id": "0LRsUb0SMz7f"
      },
      "execution_count": null,
      "outputs": []
    },
    {
      "cell_type": "markdown",
      "source": [
        "Итоговый датафрейм"
      ],
      "metadata": {
        "id": "h-6hOCV6M3Zu"
      }
    },
    {
      "cell_type": "code",
      "source": [
        "df_new.show(5)"
      ],
      "metadata": {
        "id": "_Ae_1MTMM2mo"
      },
      "execution_count": null,
      "outputs": []
    },
    {
      "cell_type": "markdown",
      "source": [
        "3. Воспользуйтесь командами groupBy, max, min и avg, чтобы вывести максимальное минимальное и среднее значение каждого из атрибутов\n",
        "цветка ('sepal_length','sepal_width','petal_length','petal_width')."
      ],
      "metadata": {
        "id": "kYCiQjXDNLpU"
      }
    },
    {
      "cell_type": "markdown",
      "source": [
        "Статистические показатели датафрейма"
      ],
      "metadata": {
        "id": "ewIDcXrbNU8Q"
      }
    },
    {
      "cell_type": "code",
      "source": [
        "df_new.summary().show()"
      ],
      "metadata": {
        "id": "_A94vsSbNN1A"
      },
      "execution_count": null,
      "outputs": []
    },
    {
      "cell_type": "markdown",
      "source": [
        "Группируем"
      ],
      "metadata": {
        "id": "w5_wITXFN2N8"
      }
    },
    {
      "cell_type": "code",
      "source": [
        "df_new.groupBy('variety').sum('sepal_length').show()"
      ],
      "metadata": {
        "id": "_6M68WG7NzyL"
      },
      "execution_count": null,
      "outputs": []
    },
    {
      "cell_type": "code",
      "source": [
        "df_new.columns[:-1]"
      ],
      "metadata": {
        "id": "UfpSH9d5OGWr"
      },
      "execution_count": null,
      "outputs": []
    },
    {
      "cell_type": "markdown",
      "source": [
        "Создаем функцию"
      ],
      "metadata": {
        "id": "c5byEfSqONQu"
      }
    },
    {
      "cell_type": "code",
      "source": [
        "def agg_func(attr):\n",
        "  df_new.groupBy(\"variety\")  \\\n",
        "    .agg(  \\\n",
        "      sum(attr),  \\\n",
        "      avg(attr),  \\\n",
        "      min(attr),  \\\n",
        "      max(attr))  \\\n",
        "    .show()"
      ],
      "metadata": {
        "id": "f8TFmH9dOQhG"
      },
      "execution_count": null,
      "outputs": []
    },
    {
      "cell_type": "code",
      "source": [
        "for i in df_new.columns[:-1]:\n",
        "  agg_func(i)"
      ],
      "metadata": {
        "id": "GambPGTNOVf6"
      },
      "execution_count": null,
      "outputs": []
    },
    {
      "cell_type": "markdown",
      "source": [
        "4. Постройте точечную диаграмму для petal_length и petal_width, раскрашенный по типам цветков."
      ],
      "metadata": {
        "id": "LqOJViODOdTR"
      }
    },
    {
      "cell_type": "markdown",
      "source": [
        "Импортируем библиотеку seaborn"
      ],
      "metadata": {
        "id": "XGxCWEhyOkwY"
      }
    },
    {
      "cell_type": "code",
      "source": [
        "import seaborn as sns"
      ],
      "metadata": {
        "id": "GT8kDaEqOfMl"
      },
      "execution_count": null,
      "outputs": []
    },
    {
      "cell_type": "markdown",
      "source": [
        "Преобразуем в тип датафрейма Pandas"
      ],
      "metadata": {
        "id": "GLxdHYFgOjPv"
      }
    },
    {
      "cell_type": "code",
      "source": [
        "df_new_sample = df_new.toPandas()\n"
      ],
      "metadata": {
        "id": "hY51ppWLO3-w"
      },
      "execution_count": null,
      "outputs": []
    },
    {
      "cell_type": "markdown",
      "source": [
        "Строим график"
      ],
      "metadata": {
        "id": "qvfGFM5fPFNe"
      }
    },
    {
      "cell_type": "code",
      "source": [
        "sns.scatterplot(data = df_new_sample, x = \"petal_length\", y = \"petal_width\", hue = \"variety\")\n",
        "plt.show()"
      ],
      "metadata": {
        "id": "2hPR5vhLPH9O"
      },
      "execution_count": null,
      "outputs": []
    },
    {
      "cell_type": "markdown",
      "source": [
        "5. Посмотрите внимательно на получившийся график и сформируйте правило вида ЕСЛИ ЗНАЧЕНИЕ ПАРАМЕТРА A < ЗНАЧЕНИЕ, ТО IRIS ОТНОСИТСЯ К КЛАССУ SETOSA - ИНАЧЕ К КАКОМУ-ТО ДРУГОМУ (НАЗОВЕМ, ЕГО НАПРИМЕР UNKNOWN).\n",
        "\n"
      ],
      "metadata": {
        "id": "cGekp9gEPpiP"
      }
    },
    {
      "cell_type": "markdown",
      "source": [
        "Если значение petal_length < 2.5 и petal_width < 1, то это класс Setosa, иначе - Unknown"
      ],
      "metadata": {
        "id": "dDAbZyNdP4Zh"
      }
    },
    {
      "cell_type": "markdown",
      "source": [
        "6. При помощи команд withColumn, when, otherwise создайте в датафрейме новую колонку с таким предсказанием."
      ],
      "metadata": {
        "id": "hFgVOgebP_8T"
      }
    },
    {
      "cell_type": "code",
      "source": [
        "df_new_ex = df_new.withColumn(\"predict\", \\\n",
        "                           when((df_new.petal_length < 2.5) & (df_new.petal_width < 1), lit(\"Setosa\")) \\\n",
        "                           .otherwise(lit(\"Unknown\"))\n",
        "                           )"
      ],
      "metadata": {
        "id": "mssxRbEJPtdO"
      },
      "execution_count": null,
      "outputs": []
    },
    {
      "cell_type": "code",
      "source": [
        "df_new_ex.show(5)"
      ],
      "metadata": {
        "id": "PturXXXIQJuv"
      },
      "execution_count": null,
      "outputs": []
    },
    {
      "cell_type": "markdown",
      "source": [
        "7. Проверьте качество своего предсказания.\n",
        "\n",
        "Для этого:\n",
        "\n",
        "7.1. Подсчитайте количество строк, где Вы предсказали класс Setosa и\n",
        "правильный класс был так же Setosa.\n",
        "\n",
        "7.2. Подсчитайте количество строк, где Вы предсказали класс Setosa, а\n",
        "правильный класс был какой-то другой (воспользуйтесь оператором \"не\n",
        "равно\" - !=)"
      ],
      "metadata": {
        "id": "Eb7MUvtmQRW3"
      }
    },
    {
      "cell_type": "code",
      "source": [
        "df_new_ex.agg(\n",
        "    count(when(col(\"variety\") == \"Setosa\", True)), #сколько всего вариантов Setosa\n",
        "    count(when((col(\"variety\") == \"Setosa\") & (col(\"predict\") == \"Setosa\"), True)), #сколько совпадений\n",
        "    count(when((col(\"variety\") != \"Setosa\") & (col(\"predict\") == \"Setosa\"), True)) #сколько несовпадений\n",
        "    ).show()"
      ],
      "metadata": {
        "id": "TpSDaC0iQUlU"
      },
      "execution_count": null,
      "outputs": []
    }
  ]
}