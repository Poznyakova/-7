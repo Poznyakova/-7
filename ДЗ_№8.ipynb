{
  "nbformat": 4,
  "nbformat_minor": 0,
  "metadata": {
    "colab": {
      "name": "ДЗ №8",
      "provenance": [],
      "include_colab_link": true
    },
    "kernelspec": {
      "name": "python3",
      "display_name": "Python 3"
    },
    "language_info": {
      "name": "python"
    }
  },
  "cells": [
    {
      "cell_type": "markdown",
      "metadata": {
        "id": "view-in-github",
        "colab_type": "text"
      },
      "source": [
        "<a href=\"https://colab.research.google.com/github/Poznyakova/-7/blob/main/%D0%94%D0%97_%E2%84%968.ipynb\" target=\"_parent\"><img src=\"https://colab.research.google.com/assets/colab-badge.svg\" alt=\"Open In Colab\"/></a>"
      ]
    },
    {
      "cell_type": "code",
      "metadata": {
        "id": "j5KAqglkHcGv"
      },
      "source": [
        "import numpy as np"
      ],
      "execution_count": null,
      "outputs": []
    },
    {
      "cell_type": "markdown",
      "metadata": {
        "id": "DgY0cCNkUNO1"
      },
      "source": [
        "1. Загрузите датасет с помощью функции np.genfromtxt()\n"
      ]
    },
    {
      "cell_type": "code",
      "metadata": {
        "id": "FV2ondH-IyHU"
      },
      "source": [
        "url='https://archive.ics.uci.edu/ml/machine-learning-databases/iris/iris.data'\n",
        "iris = np.genfromtxt(url, delimiter=',', dtype='object')"
      ],
      "execution_count": null,
      "outputs": []
    },
    {
      "cell_type": "code",
      "metadata": {
        "colab": {
          "base_uri": "https://localhost:8080/"
        },
        "id": "FZ87PWuSJJcO",
        "outputId": "b04b71ba-6a6e-415c-98f5-4dce1217180d"
      },
      "source": [
        "iris"
      ],
      "execution_count": null,
      "outputs": [
        {
          "output_type": "execute_result",
          "data": {
            "text/plain": [
              "array([[b'5.1', b'3.5', b'1.4', b'0.2', b'Iris-setosa'],\n",
              "       [b'4.9', b'3.0', b'1.4', b'0.2', b'Iris-setosa'],\n",
              "       [b'4.7', b'3.2', b'1.3', b'0.2', b'Iris-setosa'],\n",
              "       [b'4.6', b'3.1', b'1.5', b'0.2', b'Iris-setosa'],\n",
              "       [b'5.0', b'3.6', b'1.4', b'0.2', b'Iris-setosa'],\n",
              "       [b'5.4', b'3.9', b'1.7', b'0.4', b'Iris-setosa'],\n",
              "       [b'4.6', b'3.4', b'1.4', b'0.3', b'Iris-setosa'],\n",
              "       [b'5.0', b'3.4', b'1.5', b'0.2', b'Iris-setosa'],\n",
              "       [b'4.4', b'2.9', b'1.4', b'0.2', b'Iris-setosa'],\n",
              "       [b'4.9', b'3.1', b'1.5', b'0.1', b'Iris-setosa'],\n",
              "       [b'5.4', b'3.7', b'1.5', b'0.2', b'Iris-setosa'],\n",
              "       [b'4.8', b'3.4', b'1.6', b'0.2', b'Iris-setosa'],\n",
              "       [b'4.8', b'3.0', b'1.4', b'0.1', b'Iris-setosa'],\n",
              "       [b'4.3', b'3.0', b'1.1', b'0.1', b'Iris-setosa'],\n",
              "       [b'5.8', b'4.0', b'1.2', b'0.2', b'Iris-setosa'],\n",
              "       [b'5.7', b'4.4', b'1.5', b'0.4', b'Iris-setosa'],\n",
              "       [b'5.4', b'3.9', b'1.3', b'0.4', b'Iris-setosa'],\n",
              "       [b'5.1', b'3.5', b'1.4', b'0.3', b'Iris-setosa'],\n",
              "       [b'5.7', b'3.8', b'1.7', b'0.3', b'Iris-setosa'],\n",
              "       [b'5.1', b'3.8', b'1.5', b'0.3', b'Iris-setosa'],\n",
              "       [b'5.4', b'3.4', b'1.7', b'0.2', b'Iris-setosa'],\n",
              "       [b'5.1', b'3.7', b'1.5', b'0.4', b'Iris-setosa'],\n",
              "       [b'4.6', b'3.6', b'1.0', b'0.2', b'Iris-setosa'],\n",
              "       [b'5.1', b'3.3', b'1.7', b'0.5', b'Iris-setosa'],\n",
              "       [b'4.8', b'3.4', b'1.9', b'0.2', b'Iris-setosa'],\n",
              "       [b'5.0', b'3.0', b'1.6', b'0.2', b'Iris-setosa'],\n",
              "       [b'5.0', b'3.4', b'1.6', b'0.4', b'Iris-setosa'],\n",
              "       [b'5.2', b'3.5', b'1.5', b'0.2', b'Iris-setosa'],\n",
              "       [b'5.2', b'3.4', b'1.4', b'0.2', b'Iris-setosa'],\n",
              "       [b'4.7', b'3.2', b'1.6', b'0.2', b'Iris-setosa'],\n",
              "       [b'4.8', b'3.1', b'1.6', b'0.2', b'Iris-setosa'],\n",
              "       [b'5.4', b'3.4', b'1.5', b'0.4', b'Iris-setosa'],\n",
              "       [b'5.2', b'4.1', b'1.5', b'0.1', b'Iris-setosa'],\n",
              "       [b'5.5', b'4.2', b'1.4', b'0.2', b'Iris-setosa'],\n",
              "       [b'4.9', b'3.1', b'1.5', b'0.1', b'Iris-setosa'],\n",
              "       [b'5.0', b'3.2', b'1.2', b'0.2', b'Iris-setosa'],\n",
              "       [b'5.5', b'3.5', b'1.3', b'0.2', b'Iris-setosa'],\n",
              "       [b'4.9', b'3.1', b'1.5', b'0.1', b'Iris-setosa'],\n",
              "       [b'4.4', b'3.0', b'1.3', b'0.2', b'Iris-setosa'],\n",
              "       [b'5.1', b'3.4', b'1.5', b'0.2', b'Iris-setosa'],\n",
              "       [b'5.0', b'3.5', b'1.3', b'0.3', b'Iris-setosa'],\n",
              "       [b'4.5', b'2.3', b'1.3', b'0.3', b'Iris-setosa'],\n",
              "       [b'4.4', b'3.2', b'1.3', b'0.2', b'Iris-setosa'],\n",
              "       [b'5.0', b'3.5', b'1.6', b'0.6', b'Iris-setosa'],\n",
              "       [b'5.1', b'3.8', b'1.9', b'0.4', b'Iris-setosa'],\n",
              "       [b'4.8', b'3.0', b'1.4', b'0.3', b'Iris-setosa'],\n",
              "       [b'5.1', b'3.8', b'1.6', b'0.2', b'Iris-setosa'],\n",
              "       [b'4.6', b'3.2', b'1.4', b'0.2', b'Iris-setosa'],\n",
              "       [b'5.3', b'3.7', b'1.5', b'0.2', b'Iris-setosa'],\n",
              "       [b'5.0', b'3.3', b'1.4', b'0.2', b'Iris-setosa'],\n",
              "       [b'7.0', b'3.2', b'4.7', b'1.4', b'Iris-versicolor'],\n",
              "       [b'6.4', b'3.2', b'4.5', b'1.5', b'Iris-versicolor'],\n",
              "       [b'6.9', b'3.1', b'4.9', b'1.5', b'Iris-versicolor'],\n",
              "       [b'5.5', b'2.3', b'4.0', b'1.3', b'Iris-versicolor'],\n",
              "       [b'6.5', b'2.8', b'4.6', b'1.5', b'Iris-versicolor'],\n",
              "       [b'5.7', b'2.8', b'4.5', b'1.3', b'Iris-versicolor'],\n",
              "       [b'6.3', b'3.3', b'4.7', b'1.6', b'Iris-versicolor'],\n",
              "       [b'4.9', b'2.4', b'3.3', b'1.0', b'Iris-versicolor'],\n",
              "       [b'6.6', b'2.9', b'4.6', b'1.3', b'Iris-versicolor'],\n",
              "       [b'5.2', b'2.7', b'3.9', b'1.4', b'Iris-versicolor'],\n",
              "       [b'5.0', b'2.0', b'3.5', b'1.0', b'Iris-versicolor'],\n",
              "       [b'5.9', b'3.0', b'4.2', b'1.5', b'Iris-versicolor'],\n",
              "       [b'6.0', b'2.2', b'4.0', b'1.0', b'Iris-versicolor'],\n",
              "       [b'6.1', b'2.9', b'4.7', b'1.4', b'Iris-versicolor'],\n",
              "       [b'5.6', b'2.9', b'3.6', b'1.3', b'Iris-versicolor'],\n",
              "       [b'6.7', b'3.1', b'4.4', b'1.4', b'Iris-versicolor'],\n",
              "       [b'5.6', b'3.0', b'4.5', b'1.5', b'Iris-versicolor'],\n",
              "       [b'5.8', b'2.7', b'4.1', b'1.0', b'Iris-versicolor'],\n",
              "       [b'6.2', b'2.2', b'4.5', b'1.5', b'Iris-versicolor'],\n",
              "       [b'5.6', b'2.5', b'3.9', b'1.1', b'Iris-versicolor'],\n",
              "       [b'5.9', b'3.2', b'4.8', b'1.8', b'Iris-versicolor'],\n",
              "       [b'6.1', b'2.8', b'4.0', b'1.3', b'Iris-versicolor'],\n",
              "       [b'6.3', b'2.5', b'4.9', b'1.5', b'Iris-versicolor'],\n",
              "       [b'6.1', b'2.8', b'4.7', b'1.2', b'Iris-versicolor'],\n",
              "       [b'6.4', b'2.9', b'4.3', b'1.3', b'Iris-versicolor'],\n",
              "       [b'6.6', b'3.0', b'4.4', b'1.4', b'Iris-versicolor'],\n",
              "       [b'6.8', b'2.8', b'4.8', b'1.4', b'Iris-versicolor'],\n",
              "       [b'6.7', b'3.0', b'5.0', b'1.7', b'Iris-versicolor'],\n",
              "       [b'6.0', b'2.9', b'4.5', b'1.5', b'Iris-versicolor'],\n",
              "       [b'5.7', b'2.6', b'3.5', b'1.0', b'Iris-versicolor'],\n",
              "       [b'5.5', b'2.4', b'3.8', b'1.1', b'Iris-versicolor'],\n",
              "       [b'5.5', b'2.4', b'3.7', b'1.0', b'Iris-versicolor'],\n",
              "       [b'5.8', b'2.7', b'3.9', b'1.2', b'Iris-versicolor'],\n",
              "       [b'6.0', b'2.7', b'5.1', b'1.6', b'Iris-versicolor'],\n",
              "       [b'5.4', b'3.0', b'4.5', b'1.5', b'Iris-versicolor'],\n",
              "       [b'6.0', b'3.4', b'4.5', b'1.6', b'Iris-versicolor'],\n",
              "       [b'6.7', b'3.1', b'4.7', b'1.5', b'Iris-versicolor'],\n",
              "       [b'6.3', b'2.3', b'4.4', b'1.3', b'Iris-versicolor'],\n",
              "       [b'5.6', b'3.0', b'4.1', b'1.3', b'Iris-versicolor'],\n",
              "       [b'5.5', b'2.5', b'4.0', b'1.3', b'Iris-versicolor'],\n",
              "       [b'5.5', b'2.6', b'4.4', b'1.2', b'Iris-versicolor'],\n",
              "       [b'6.1', b'3.0', b'4.6', b'1.4', b'Iris-versicolor'],\n",
              "       [b'5.8', b'2.6', b'4.0', b'1.2', b'Iris-versicolor'],\n",
              "       [b'5.0', b'2.3', b'3.3', b'1.0', b'Iris-versicolor'],\n",
              "       [b'5.6', b'2.7', b'4.2', b'1.3', b'Iris-versicolor'],\n",
              "       [b'5.7', b'3.0', b'4.2', b'1.2', b'Iris-versicolor'],\n",
              "       [b'5.7', b'2.9', b'4.2', b'1.3', b'Iris-versicolor'],\n",
              "       [b'6.2', b'2.9', b'4.3', b'1.3', b'Iris-versicolor'],\n",
              "       [b'5.1', b'2.5', b'3.0', b'1.1', b'Iris-versicolor'],\n",
              "       [b'5.7', b'2.8', b'4.1', b'1.3', b'Iris-versicolor'],\n",
              "       [b'6.3', b'3.3', b'6.0', b'2.5', b'Iris-virginica'],\n",
              "       [b'5.8', b'2.7', b'5.1', b'1.9', b'Iris-virginica'],\n",
              "       [b'7.1', b'3.0', b'5.9', b'2.1', b'Iris-virginica'],\n",
              "       [b'6.3', b'2.9', b'5.6', b'1.8', b'Iris-virginica'],\n",
              "       [b'6.5', b'3.0', b'5.8', b'2.2', b'Iris-virginica'],\n",
              "       [b'7.6', b'3.0', b'6.6', b'2.1', b'Iris-virginica'],\n",
              "       [b'4.9', b'2.5', b'4.5', b'1.7', b'Iris-virginica'],\n",
              "       [b'7.3', b'2.9', b'6.3', b'1.8', b'Iris-virginica'],\n",
              "       [b'6.7', b'2.5', b'5.8', b'1.8', b'Iris-virginica'],\n",
              "       [b'7.2', b'3.6', b'6.1', b'2.5', b'Iris-virginica'],\n",
              "       [b'6.5', b'3.2', b'5.1', b'2.0', b'Iris-virginica'],\n",
              "       [b'6.4', b'2.7', b'5.3', b'1.9', b'Iris-virginica'],\n",
              "       [b'6.8', b'3.0', b'5.5', b'2.1', b'Iris-virginica'],\n",
              "       [b'5.7', b'2.5', b'5.0', b'2.0', b'Iris-virginica'],\n",
              "       [b'5.8', b'2.8', b'5.1', b'2.4', b'Iris-virginica'],\n",
              "       [b'6.4', b'3.2', b'5.3', b'2.3', b'Iris-virginica'],\n",
              "       [b'6.5', b'3.0', b'5.5', b'1.8', b'Iris-virginica'],\n",
              "       [b'7.7', b'3.8', b'6.7', b'2.2', b'Iris-virginica'],\n",
              "       [b'7.7', b'2.6', b'6.9', b'2.3', b'Iris-virginica'],\n",
              "       [b'6.0', b'2.2', b'5.0', b'1.5', b'Iris-virginica'],\n",
              "       [b'6.9', b'3.2', b'5.7', b'2.3', b'Iris-virginica'],\n",
              "       [b'5.6', b'2.8', b'4.9', b'2.0', b'Iris-virginica'],\n",
              "       [b'7.7', b'2.8', b'6.7', b'2.0', b'Iris-virginica'],\n",
              "       [b'6.3', b'2.7', b'4.9', b'1.8', b'Iris-virginica'],\n",
              "       [b'6.7', b'3.3', b'5.7', b'2.1', b'Iris-virginica'],\n",
              "       [b'7.2', b'3.2', b'6.0', b'1.8', b'Iris-virginica'],\n",
              "       [b'6.2', b'2.8', b'4.8', b'1.8', b'Iris-virginica'],\n",
              "       [b'6.1', b'3.0', b'4.9', b'1.8', b'Iris-virginica'],\n",
              "       [b'6.4', b'2.8', b'5.6', b'2.1', b'Iris-virginica'],\n",
              "       [b'7.2', b'3.0', b'5.8', b'1.6', b'Iris-virginica'],\n",
              "       [b'7.4', b'2.8', b'6.1', b'1.9', b'Iris-virginica'],\n",
              "       [b'7.9', b'3.8', b'6.4', b'2.0', b'Iris-virginica'],\n",
              "       [b'6.4', b'2.8', b'5.6', b'2.2', b'Iris-virginica'],\n",
              "       [b'6.3', b'2.8', b'5.1', b'1.5', b'Iris-virginica'],\n",
              "       [b'6.1', b'2.6', b'5.6', b'1.4', b'Iris-virginica'],\n",
              "       [b'7.7', b'3.0', b'6.1', b'2.3', b'Iris-virginica'],\n",
              "       [b'6.3', b'3.4', b'5.6', b'2.4', b'Iris-virginica'],\n",
              "       [b'6.4', b'3.1', b'5.5', b'1.8', b'Iris-virginica'],\n",
              "       [b'6.0', b'3.0', b'4.8', b'1.8', b'Iris-virginica'],\n",
              "       [b'6.9', b'3.1', b'5.4', b'2.1', b'Iris-virginica'],\n",
              "       [b'6.7', b'3.1', b'5.6', b'2.4', b'Iris-virginica'],\n",
              "       [b'6.9', b'3.1', b'5.1', b'2.3', b'Iris-virginica'],\n",
              "       [b'5.8', b'2.7', b'5.1', b'1.9', b'Iris-virginica'],\n",
              "       [b'6.8', b'3.2', b'5.9', b'2.3', b'Iris-virginica'],\n",
              "       [b'6.7', b'3.3', b'5.7', b'2.5', b'Iris-virginica'],\n",
              "       [b'6.7', b'3.0', b'5.2', b'2.3', b'Iris-virginica'],\n",
              "       [b'6.3', b'2.5', b'5.0', b'1.9', b'Iris-virginica'],\n",
              "       [b'6.5', b'3.0', b'5.2', b'2.0', b'Iris-virginica'],\n",
              "       [b'6.2', b'3.4', b'5.4', b'2.3', b'Iris-virginica'],\n",
              "       [b'5.9', b'3.0', b'5.1', b'1.8', b'Iris-virginica']], dtype=object)"
            ]
          },
          "metadata": {},
          "execution_count": 3
        }
      ]
    },
    {
      "cell_type": "markdown",
      "metadata": {
        "id": "fquTGM3vUmf7"
      },
      "source": [
        "2. Вычислите простейшие статистики: min, max, median, mean, 0,25-percentile, 0,75-percentile - для каждого из числовых атрибутов в датасете "
      ]
    },
    {
      "cell_type": "code",
      "metadata": {
        "id": "M7COiVFD9GuS"
      },
      "source": [
        "atr_1=np.genfromtxt(url, delimiter=',', dtype='float', usecols=[0])\n",
        "atr_2=np.genfromtxt(url, delimiter=',', dtype='float', usecols=[1])\n",
        "atr_3=np.genfromtxt(url, delimiter=',', dtype='float', usecols=[2])\n",
        "atr_4=np.genfromtxt(url, delimiter=',', dtype='float', usecols=[3])\n",
        "atr_5=np.genfromtxt(url, delimiter=',', dtype='str', usecols=[4])\n"
      ],
      "execution_count": null,
      "outputs": []
    },
    {
      "cell_type": "code",
      "metadata": {
        "colab": {
          "base_uri": "https://localhost:8080/"
        },
        "id": "kk6b6q8T9G-Y",
        "outputId": "1e6527b0-eb35-4bc4-ef04-5abecdd56188"
      },
      "source": [
        "atr_1"
      ],
      "execution_count": null,
      "outputs": [
        {
          "output_type": "execute_result",
          "data": {
            "text/plain": [
              "array([5.1, 4.9, 4.7, 4.6, 5. , 5.4, 4.6, 5. , 4.4, 4.9, 5.4, 4.8, 4.8,\n",
              "       4.3, 5.8, 5.7, 5.4, 5.1, 5.7, 5.1, 5.4, 5.1, 4.6, 5.1, 4.8, 5. ,\n",
              "       5. , 5.2, 5.2, 4.7, 4.8, 5.4, 5.2, 5.5, 4.9, 5. , 5.5, 4.9, 4.4,\n",
              "       5.1, 5. , 4.5, 4.4, 5. , 5.1, 4.8, 5.1, 4.6, 5.3, 5. , 7. , 6.4,\n",
              "       6.9, 5.5, 6.5, 5.7, 6.3, 4.9, 6.6, 5.2, 5. , 5.9, 6. , 6.1, 5.6,\n",
              "       6.7, 5.6, 5.8, 6.2, 5.6, 5.9, 6.1, 6.3, 6.1, 6.4, 6.6, 6.8, 6.7,\n",
              "       6. , 5.7, 5.5, 5.5, 5.8, 6. , 5.4, 6. , 6.7, 6.3, 5.6, 5.5, 5.5,\n",
              "       6.1, 5.8, 5. , 5.6, 5.7, 5.7, 6.2, 5.1, 5.7, 6.3, 5.8, 7.1, 6.3,\n",
              "       6.5, 7.6, 4.9, 7.3, 6.7, 7.2, 6.5, 6.4, 6.8, 5.7, 5.8, 6.4, 6.5,\n",
              "       7.7, 7.7, 6. , 6.9, 5.6, 7.7, 6.3, 6.7, 7.2, 6.2, 6.1, 6.4, 7.2,\n",
              "       7.4, 7.9, 6.4, 6.3, 6.1, 7.7, 6.3, 6.4, 6. , 6.9, 6.7, 6.9, 5.8,\n",
              "       6.8, 6.7, 6.7, 6.3, 6.5, 6.2, 5.9])"
            ]
          },
          "metadata": {},
          "execution_count": 5
        }
      ]
    },
    {
      "cell_type": "code",
      "metadata": {
        "colab": {
          "base_uri": "https://localhost:8080/"
        },
        "id": "Ze7wHB8A9HRu",
        "outputId": "50d5894a-ec33-47a2-9973-094a958a59b1"
      },
      "source": [
        "print('Среднее для atr_1=',np.mean(atr_1))\n",
        "print('Минимум для atr_1=',np.min(atr_1))\n",
        "print('Максимум для atr_1=',np.max(atr_1))\n",
        "print ('Медиана для atr_1=', np.median(atr_1))\n",
        "print('Персентиль 0,25 для atr_1=',np.percentile(atr_1, 25))\n",
        "print('Персентиль 0,75 для atr_1=',np.percentile(atr_1, 75))"
      ],
      "execution_count": null,
      "outputs": [
        {
          "output_type": "stream",
          "name": "stdout",
          "text": [
            "Среднее для atr_1= 5.843333333333334\n",
            "Минимум для atr_1= 4.3\n",
            "Максимум для atr_1= 7.9\n",
            "Медиана для atr_1= 5.8\n",
            "Персентиль 0,25 для atr_1= 5.1\n",
            "Персентиль 0,75 для atr_1= 6.4\n"
          ]
        }
      ]
    },
    {
      "cell_type": "code",
      "metadata": {
        "colab": {
          "base_uri": "https://localhost:8080/"
        },
        "id": "uujA0JNKnVpH",
        "outputId": "383a5f67-960f-4c63-fdcd-1986601c2045"
      },
      "source": [
        "print('Среднее для atr_2=',np.mean(atr_2))\n",
        "print('Минимум для atr_2=',np.min(atr_2))\n",
        "print('Максимум для atr_2=',np.max(atr_2))\n",
        "print ('Медиана для atr_2=', np.median(atr_2))\n",
        "print('Персентиль 0,25 для atr_2=',np.percentile(atr_2, 25))\n",
        "print('Персентиль 0,75 для atr_2=',np.percentile(atr_2, 75))"
      ],
      "execution_count": null,
      "outputs": [
        {
          "output_type": "stream",
          "name": "stdout",
          "text": [
            "Среднее для atr_2= 3.0540000000000003\n",
            "Минимум для atr_2= 2.0\n",
            "Максимум для atr_2= 4.4\n",
            "Медиана для atr_2= 3.0\n",
            "Персентиль 0,25 для atr_2= 2.8\n",
            "Персентиль 0,75 для atr_2= 3.3\n"
          ]
        }
      ]
    },
    {
      "cell_type": "code",
      "metadata": {
        "colab": {
          "base_uri": "https://localhost:8080/"
        },
        "id": "km05PHU2njdg",
        "outputId": "8deae0a6-8e13-4fcb-9630-f8d2f1f34431"
      },
      "source": [
        "print('Среднее для atr_3=',np.mean(atr_3))\n",
        "print('Минимум для atr_3=',np.min(atr_3))\n",
        "print('Максимум для atr_3=',np.max(atr_3))\n",
        "print ('Медиана для atr_3=', np.median(atr_3))\n",
        "print('Персентиль 0,25 для atr_3=',np.percentile(atr_3, 25))\n",
        "print('Персентиль 0,75 для atr_3=',np.percentile(atr_3, 75))"
      ],
      "execution_count": null,
      "outputs": [
        {
          "output_type": "stream",
          "name": "stdout",
          "text": [
            "Среднее для atr_3= 3.758666666666666\n",
            "Минимум для atr_3= 1.0\n",
            "Максимум для atr_3= 6.9\n",
            "Медиана для atr_3= 4.35\n",
            "Персентиль 0,25 для atr_3= 1.6\n",
            "Персентиль 0,75 для atr_3= 5.1\n"
          ]
        }
      ]
    },
    {
      "cell_type": "code",
      "metadata": {
        "colab": {
          "base_uri": "https://localhost:8080/"
        },
        "id": "Gy0mJ51MnvpJ",
        "outputId": "a9f694ff-0a30-489c-fd15-edeb5b0632d9"
      },
      "source": [
        "print('Среднее для atr_4=',np.mean(atr_4))\n",
        "print('Минимум для atr_4=',np.min(atr_4))\n",
        "print('Максимум для atr_4=',np.max(atr_4))\n",
        "print ('Медиана для atr_4=', np.median(atr_4))\n",
        "print('Персентиль 0,25 для atr_4=',np.percentile(atr_4, 25))\n",
        "print('Персентиль 0,75 для atr_4=',np.percentile(atr_4, 75))"
      ],
      "execution_count": null,
      "outputs": [
        {
          "output_type": "stream",
          "name": "stdout",
          "text": [
            "Среднее для atr_4= 1.1986666666666668\n",
            "Минимум для atr_4= 0.1\n",
            "Максимум для atr_4= 2.5\n",
            "Медиана для atr_4= 1.3\n",
            "Персентиль 0,25 для atr_4= 0.3\n",
            "Персентиль 0,75 для atr_4= 1.8\n"
          ]
        }
      ]
    },
    {
      "cell_type": "markdown",
      "metadata": {
        "id": "LOCkLVI7lfEN"
      },
      "source": [
        "Реализация через цикл"
      ]
    },
    {
      "cell_type": "code",
      "metadata": {
        "id": "WRXEW5SWllUx"
      },
      "source": [
        "massiv = [atr_1, atr_2, atr_3, atr_4]\n",
        "a=np.array(massiv)"
      ],
      "execution_count": null,
      "outputs": []
    },
    {
      "cell_type": "code",
      "metadata": {
        "colab": {
          "base_uri": "https://localhost:8080/"
        },
        "id": "9gGXuwrBl2Ly",
        "outputId": "9ca7b301-e922-4bdb-9d55-c86a4161d919"
      },
      "source": [
        "for val in a:\n",
        "  print ('\\nМинимум =',np.min(val),\n",
        "         '\\nМаксимум =',np.max(val),\n",
        "         '\\nМедиана =',np.median(val),\n",
        "         '\\nСреднее значение =',np.mean(val),\n",
        "         '\\nПерсентиль 0.25 =',np.percentile(val, 25),\n",
        "         '\\nПерсентиль 0.75 =',np.percentile(val, 75))"
      ],
      "execution_count": null,
      "outputs": [
        {
          "output_type": "stream",
          "name": "stdout",
          "text": [
            "\n",
            "Минимум = 4.3 \n",
            "Максимум = 7.9 \n",
            "Медиана = 5.8 \n",
            "Среднее значение = 5.843333333333334 \n",
            "Персентиль 0.25 = 5.1 \n",
            "Персентиль 0.75 = 6.4\n",
            "\n",
            "Минимум = 2.0 \n",
            "Максимум = 4.4 \n",
            "Медиана = 3.0 \n",
            "Среднее значение = 3.0540000000000003 \n",
            "Персентиль 0.25 = 2.8 \n",
            "Персентиль 0.75 = 3.3\n",
            "\n",
            "Минимум = 1.0 \n",
            "Максимум = 6.9 \n",
            "Медиана = 4.35 \n",
            "Среднее значение = 3.758666666666666 \n",
            "Персентиль 0.25 = 1.6 \n",
            "Персентиль 0.75 = 5.1\n",
            "\n",
            "Минимум = 0.1 \n",
            "Максимум = 2.5 \n",
            "Медиана = 1.3 \n",
            "Среднее значение = 1.1986666666666668 \n",
            "Персентиль 0.25 = 0.3 \n",
            "Персентиль 0.75 = 1.8\n"
          ]
        }
      ]
    },
    {
      "cell_type": "markdown",
      "metadata": {
        "id": "1BRSta8WVW_x"
      },
      "source": [
        "3. Постройте гистограмму для каждого из числовых атрибутов в датасете"
      ]
    },
    {
      "cell_type": "code",
      "metadata": {
        "id": "J0tDQpTeR2d8"
      },
      "source": [
        "import matplotlib.pyplot as plt\n"
      ],
      "execution_count": null,
      "outputs": []
    },
    {
      "cell_type": "code",
      "metadata": {
        "colab": {
          "base_uri": "https://localhost:8080/",
          "height": 281
        },
        "id": "hSRBbqszR2n7",
        "outputId": "5ab2b961-4333-4601-823c-cfbc878df7a5"
      },
      "source": [
        "plt.hist(atr_1, bins='auto')\n",
        "plt.title('Гистограмма для atr_1')\n",
        "plt.show()"
      ],
      "execution_count": null,
      "outputs": [
        {
          "output_type": "display_data",
          "data": {
            "image/png": "[encoded data removed]",
            "text/plain": [
              "<Figure size 432x288 with 1 Axes>"
            ]
          },
          "metadata": {
            "needs_background": "light"
          }
        }
      ]
    },
    {
      "cell_type": "code",
      "metadata": {
        "colab": {
          "base_uri": "https://localhost:8080/",
          "height": 281
        },
        "id": "ABYpj_awR2wu",
        "outputId": "49fc976f-4611-41a5-c947-6dbf4c50246a"
      },
      "source": [
        "plt.hist(atr_2, bins='auto')\n",
        "plt.title('Гистограмма для atr_2')\n",
        "plt.show()\n"
      ],
      "execution_count": null,
      "outputs": [
        {
          "output_type": "display_data",
          "data": {
            "image/png": "[encoded data removed]",
            "text/plain": [
              "<Figure size 432x288 with 1 Axes>"
            ]
          },
          "metadata": {
            "needs_background": "light"
          }
        }
      ]
    },
    {
      "cell_type": "code",
      "metadata": {
        "colab": {
          "base_uri": "https://localhost:8080/",
          "height": 281
        },
        "id": "WaEmQ7KZXVss",
        "outputId": "d9f11f79-0bb3-4602-934e-8fd288475174"
      },
      "source": [
        "plt.hist(atr_3, bins='auto')\n",
        "plt.title('Гистограмма для atr_3')\n",
        "plt.show()"
      ],
      "execution_count": null,
      "outputs": [
        {
          "output_type": "display_data",
          "data": {
            "image/png": "[encoded data removed]",
            "text/plain": [
              "<Figure size 432x288 with 1 Axes>"
            ]
          },
          "metadata": {
            "needs_background": "light"
          }
        }
      ]
    },
    {
      "cell_type": "code",
      "metadata": {
        "colab": {
          "base_uri": "https://localhost:8080/",
          "height": 281
        },
        "id": "VUKLOqeGYsGW",
        "outputId": "8b290167-34b8-4876-b805-93c103ffda4f"
      },
      "source": [
        "plt.hist(atr_4, bins='auto')\n",
        "plt.title('Гистограмма для atr_4')\n",
        "plt.show()"
      ],
      "execution_count": null,
      "outputs": [
        {
          "output_type": "display_data",
          "data": {
            "image/png": "[encoded data removed]",
            "text/plain": [
              "<Figure size 432x288 with 1 Axes>"
            ]
          },
          "metadata": {
            "needs_background": "light"
          }
        }
      ]
    },
    {
      "cell_type": "markdown",
      "metadata": {
        "id": "d7jbAbi_mRUD"
      },
      "source": [
        "Реализация через цикл"
      ]
    },
    {
      "cell_type": "code",
      "metadata": {
        "colab": {
          "base_uri": "https://localhost:8080/",
          "height": 297
        },
        "id": "h5d6KwrvmVrh",
        "outputId": "4dd3e8b2-2dca-4786-a9f6-e9873779e148"
      },
      "source": [
        "fig, ((ax1, ax2),(ax3, ax4)) = plt.subplots(nrows=2, ncols=2)\n",
        "ax1.hist(atr_1)\n",
        "ax1.set_title('Гистограмма для atr_1')\n",
        "\n",
        "ax2.hist(atr_2)\n",
        "ax2.set_title('Гистограмма для atr_2')\n",
        "\n",
        "ax3.hist(atr_3)\n",
        "ax3.set_title('Гистограмма для atr_3')\n",
        "\n",
        "ax4.hist(atr_4)\n",
        "ax4.set_title('Гистограмма для atr_4')\n",
        "\n",
        "fig.tight_layout()\n",
        "plt.show()"
      ],
      "execution_count": null,
      "outputs": [
        {
          "output_type": "display_data",
          "data": {
            "image/png": "[encoded data removed]",
            "text/plain": [
              "<Figure size 432x288 with 4 Axes>"
            ]
          },
          "metadata": {
            "needs_background": "light"
          }
        }
      ]
    },
    {
      "cell_type": "markdown",
      "metadata": {
        "id": "BWOzkpo0JSDH"
      },
      "source": [
        "4. Сгруппируйте датасет по категории (последний столбец датасета) и повторите шаги 2 и 3 для групп"
      ]
    },
    {
      "cell_type": "code",
      "metadata": {
        "id": "WZdG4s2p09z5",
        "colab": {
          "base_uri": "https://localhost:8080/"
        },
        "outputId": "baeb7f5f-e3e4-47d3-f99c-8c5bb4198650"
      },
      "source": [
        "atr_5"
      ],
      "execution_count": null,
      "outputs": [
        {
          "output_type": "execute_result",
          "data": {
            "text/plain": [
              "array(['Iris-setosa', 'Iris-setosa', 'Iris-setosa', 'Iris-setosa',\n",
              "       'Iris-setosa', 'Iris-setosa', 'Iris-setosa', 'Iris-setosa',\n",
              "       'Iris-setosa', 'Iris-setosa', 'Iris-setosa', 'Iris-setosa',\n",
              "       'Iris-setosa', 'Iris-setosa', 'Iris-setosa', 'Iris-setosa',\n",
              "       'Iris-setosa', 'Iris-setosa', 'Iris-setosa', 'Iris-setosa',\n",
              "       'Iris-setosa', 'Iris-setosa', 'Iris-setosa', 'Iris-setosa',\n",
              "       'Iris-setosa', 'Iris-setosa', 'Iris-setosa', 'Iris-setosa',\n",
              "       'Iris-setosa', 'Iris-setosa', 'Iris-setosa', 'Iris-setosa',\n",
              "       'Iris-setosa', 'Iris-setosa', 'Iris-setosa', 'Iris-setosa',\n",
              "       'Iris-setosa', 'Iris-setosa', 'Iris-setosa', 'Iris-setosa',\n",
              "       'Iris-setosa', 'Iris-setosa', 'Iris-setosa', 'Iris-setosa',\n",
              "       'Iris-setosa', 'Iris-setosa', 'Iris-setosa', 'Iris-setosa',\n",
              "       'Iris-setosa', 'Iris-setosa', 'Iris-versicolor', 'Iris-versicolor',\n",
              "       'Iris-versicolor', 'Iris-versicolor', 'Iris-versicolor',\n",
              "       'Iris-versicolor', 'Iris-versicolor', 'Iris-versicolor',\n",
              "       'Iris-versicolor', 'Iris-versicolor', 'Iris-versicolor',\n",
              "       'Iris-versicolor', 'Iris-versicolor', 'Iris-versicolor',\n",
              "       'Iris-versicolor', 'Iris-versicolor', 'Iris-versicolor',\n",
              "       'Iris-versicolor', 'Iris-versicolor', 'Iris-versicolor',\n",
              "       'Iris-versicolor', 'Iris-versicolor', 'Iris-versicolor',\n",
              "       'Iris-versicolor', 'Iris-versicolor', 'Iris-versicolor',\n",
              "       'Iris-versicolor', 'Iris-versicolor', 'Iris-versicolor',\n",
              "       'Iris-versicolor', 'Iris-versicolor', 'Iris-versicolor',\n",
              "       'Iris-versicolor', 'Iris-versicolor', 'Iris-versicolor',\n",
              "       'Iris-versicolor', 'Iris-versicolor', 'Iris-versicolor',\n",
              "       'Iris-versicolor', 'Iris-versicolor', 'Iris-versicolor',\n",
              "       'Iris-versicolor', 'Iris-versicolor', 'Iris-versicolor',\n",
              "       'Iris-versicolor', 'Iris-versicolor', 'Iris-versicolor',\n",
              "       'Iris-versicolor', 'Iris-versicolor', 'Iris-versicolor',\n",
              "       'Iris-virginica', 'Iris-virginica', 'Iris-virginica',\n",
              "       'Iris-virginica', 'Iris-virginica', 'Iris-virginica',\n",
              "       'Iris-virginica', 'Iris-virginica', 'Iris-virginica',\n",
              "       'Iris-virginica', 'Iris-virginica', 'Iris-virginica',\n",
              "       'Iris-virginica', 'Iris-virginica', 'Iris-virginica',\n",
              "       'Iris-virginica', 'Iris-virginica', 'Iris-virginica',\n",
              "       'Iris-virginica', 'Iris-virginica', 'Iris-virginica',\n",
              "       'Iris-virginica', 'Iris-virginica', 'Iris-virginica',\n",
              "       'Iris-virginica', 'Iris-virginica', 'Iris-virginica',\n",
              "       'Iris-virginica', 'Iris-virginica', 'Iris-virginica',\n",
              "       'Iris-virginica', 'Iris-virginica', 'Iris-virginica',\n",
              "       'Iris-virginica', 'Iris-virginica', 'Iris-virginica',\n",
              "       'Iris-virginica', 'Iris-virginica', 'Iris-virginica',\n",
              "       'Iris-virginica', 'Iris-virginica', 'Iris-virginica',\n",
              "       'Iris-virginica', 'Iris-virginica', 'Iris-virginica',\n",
              "       'Iris-virginica', 'Iris-virginica', 'Iris-virginica',\n",
              "       'Iris-virginica', 'Iris-virginica'], dtype='<U15')"
            ]
          },
          "metadata": {},
          "execution_count": 15
        }
      ]
    },
    {
      "cell_type": "code",
      "metadata": {
        "id": "Buetz2571NNW",
        "colab": {
          "base_uri": "https://localhost:8080/"
        },
        "outputId": "d9d01991-fdaa-429a-ebcc-422faa603cf1"
      },
      "source": [
        "np.unique(atr_5)"
      ],
      "execution_count": null,
      "outputs": [
        {
          "output_type": "execute_result",
          "data": {
            "text/plain": [
              "array(['Iris-setosa', 'Iris-versicolor', 'Iris-virginica'], dtype='<U15')"
            ]
          },
          "metadata": {},
          "execution_count": 16
        }
      ]
    },
    {
      "cell_type": "code",
      "metadata": {
        "id": "qmjMCB2-1TNb"
      },
      "source": [
        "new_1=[]\n",
        "for group_val in np.unique(atr_5):\n",
        "  new_1.append(atr_1[atr_5==group_val].mean())"
      ],
      "execution_count": null,
      "outputs": []
    },
    {
      "cell_type": "code",
      "metadata": {
        "colab": {
          "base_uri": "https://localhost:8080/"
        },
        "id": "gCncjOie3YIi",
        "outputId": "ad983c04-30e9-4ae7-d4f4-0a1b0bf6177c"
      },
      "source": [
        "new_1"
      ],
      "execution_count": null,
      "outputs": [
        {
          "output_type": "execute_result",
          "data": {
            "text/plain": [
              "[5.006, 5.936, 6.587999999999998]"
            ]
          },
          "metadata": {},
          "execution_count": 36
        }
      ]
    },
    {
      "cell_type": "code",
      "metadata": {
        "colab": {
          "base_uri": "https://localhost:8080/",
          "height": 382
        },
        "id": "HRp07gye3nMu",
        "outputId": "844ca20b-284f-4a4b-8241-acb279cb74fe"
      },
      "source": [
        "print('Среднее для new_1=',np.mean(new_1))\n",
        "print('Минимум для new_1=',np.min(new_1))\n",
        "print('Максимум для new_1=',np.max(new_1))\n",
        "print ('Медиана для new_1=', np.median(new_1))\n",
        "print('Персентиль 0,25 для new_1=',np.percentile(new_1, 25))\n",
        "print('Персентиль 0,75 для new_1=',np.percentile(new_1, 75))\n",
        "\n",
        "plt.hist(new_1, bins='auto')\n",
        "plt.title('Гистограмма для new_1')\n",
        "plt.show()"
      ],
      "execution_count": null,
      "outputs": [
        {
          "output_type": "stream",
          "name": "stdout",
          "text": [
            "Среднее для new_1= 5.843333333333333\n",
            "Минимум для new_1= 5.006\n",
            "Максимум для new_1= 6.587999999999998\n",
            "Медиана для new_1= 5.936\n",
            "Персентиль 0,25 для new_1= 5.471\n",
            "Персентиль 0,75 для new_1= 6.261999999999999\n"
          ]
        },
        {
          "output_type": "display_data",
          "data": {
            "image/png": "[encoded data removed]",
            "text/plain": [
              "<Figure size 432x288 with 1 Axes>"
            ]
          },
          "metadata": {
            "needs_background": "light"
          }
        }
      ]
    },
    {
      "cell_type": "code",
      "metadata": {
        "id": "zgfDxb2m7NzQ"
      },
      "source": [
        "new_2=[]\n",
        "for group_val in np.unique(atr_5):\n",
        "  new_2.append(atr_2[atr_5==group_val].mean())"
      ],
      "execution_count": null,
      "outputs": []
    },
    {
      "cell_type": "code",
      "metadata": {
        "colab": {
          "base_uri": "https://localhost:8080/"
        },
        "id": "GZw1YWKK7WZO",
        "outputId": "6aacee29-2b1e-4b8d-fed2-b893a6bb942c"
      },
      "source": [
        "new_2"
      ],
      "execution_count": null,
      "outputs": [
        {
          "output_type": "execute_result",
          "data": {
            "text/plain": [
              "[3.418, 2.7700000000000005, 2.974]"
            ]
          },
          "metadata": {},
          "execution_count": 22
        }
      ]
    },
    {
      "cell_type": "code",
      "metadata": {
        "colab": {
          "base_uri": "https://localhost:8080/",
          "height": 382
        },
        "id": "P1QyTtU97hCA",
        "outputId": "0bc57404-6bb6-4028-bdde-bfe175ee1679"
      },
      "source": [
        "print('Среднее для new_2=',np.mean(new_2))\n",
        "print('Минимум для new_2=',np.min(new_2))\n",
        "print('Максимум для new_2=',np.max(new_2))\n",
        "print ('Медиана для new_2=', np.median(new_2))\n",
        "print('Персентиль 0,25 для new_2=',np.percentile(new_2, 25))\n",
        "print('Персентиль 0,75 для new_2=',np.percentile(new_2, 75))\n",
        "\n",
        "plt.hist(new_2, bins='auto')\n",
        "plt.title('Гистограмма для new_2')\n",
        "plt.show()\n",
        "\n"
      ],
      "execution_count": null,
      "outputs": [
        {
          "output_type": "stream",
          "name": "stdout",
          "text": [
            "Среднее для new_2= 3.0540000000000003\n",
            "Минимум для new_2= 2.7700000000000005\n",
            "Максимум для new_2= 3.418\n",
            "Медиана для new_2= 2.974\n",
            "Персентиль 0,25 для new_2= 2.8720000000000003\n",
            "Персентиль 0,75 для new_2= 3.196\n"
          ]
        },
        {
          "output_type": "display_data",
          "data": {
            "image/png": "[encoded data removed]",
            "text/plain": [
              "<Figure size 432x288 with 1 Axes>"
            ]
          },
          "metadata": {
            "needs_background": "light"
          }
        }
      ]
    },
    {
      "cell_type": "code",
      "metadata": {
        "id": "UwAKOn-U8FDo"
      },
      "source": [
        "new_3=[]\n",
        "for group_val in np.unique(atr_5):\n",
        "  new_3.append(atr_4[atr_5==group_val].mean())"
      ],
      "execution_count": null,
      "outputs": []
    },
    {
      "cell_type": "code",
      "metadata": {
        "colab": {
          "base_uri": "https://localhost:8080/"
        },
        "id": "fb_P8plT8ltA",
        "outputId": "43b673dc-212d-4a72-864d-7a976dfcd184"
      },
      "source": [
        "new_3"
      ],
      "execution_count": null,
      "outputs": [
        {
          "output_type": "execute_result",
          "data": {
            "text/plain": [
              "[0.244, 1.3259999999999998, 2.0260000000000002]"
            ]
          },
          "metadata": {},
          "execution_count": 25
        }
      ]
    },
    {
      "cell_type": "code",
      "metadata": {
        "colab": {
          "base_uri": "https://localhost:8080/",
          "height": 382
        },
        "id": "s0uMny-T8MAt",
        "outputId": "442b6366-76c4-436d-9b1d-5c64a024b6f5"
      },
      "source": [
        "print('Среднее для new_3=',np.mean(new_3))\n",
        "print('Минимум для new_3=',np.min(new_3))\n",
        "print('Максимум для new_3=',np.max(new_3))\n",
        "print ('Медиана для new_3=', np.median(new_3))\n",
        "print('Персентиль 0,25 для new_3=',np.percentile(new_3, 25))\n",
        "print('Персентиль 0,75 для new_3=',np.percentile(new_3, 75))\n",
        "\n",
        "plt.hist(new_3, bins='auto')\n",
        "plt.title('Гистограмма для new_3')\n",
        "plt.show()"
      ],
      "execution_count": null,
      "outputs": [
        {
          "output_type": "stream",
          "name": "stdout",
          "text": [
            "Среднее для new_3= 1.1986666666666668\n",
            "Минимум для new_3= 0.244\n",
            "Максимум для new_3= 2.0260000000000002\n",
            "Медиана для new_3= 1.3259999999999998\n",
            "Персентиль 0,25 для new_3= 0.7849999999999999\n",
            "Персентиль 0,75 для new_3= 1.6760000000000002\n"
          ]
        },
        {
          "output_type": "display_data",
          "data": {
            "image/png": "[encoded data removed]",
            "text/plain": [
              "<Figure size 432x288 with 1 Axes>"
            ]
          },
          "metadata": {
            "needs_background": "light"
          }
        }
      ]
    },
    {
      "cell_type": "markdown",
      "metadata": {
        "id": "ZECDyMJtmqht"
      },
      "source": [
        "Реализация через цикл"
      ]
    },
    {
      "cell_type": "code",
      "metadata": {
        "colab": {
          "base_uri": "https://localhost:8080/"
        },
        "id": "wyUXTtQDmpZy",
        "outputId": "652ef579-e59c-4587-d33b-d877f27cb47a"
      },
      "source": [
        "massiv = [new_1, new_2, new_3]\n",
        "b=np.array(massiv)\n",
        "b"
      ],
      "execution_count": null,
      "outputs": [
        {
          "output_type": "execute_result",
          "data": {
            "text/plain": [
              "array([[5.006, 5.936, 6.588],\n",
              "       [3.418, 2.77 , 2.974],\n",
              "       [0.244, 1.326, 2.026]])"
            ]
          },
          "metadata": {},
          "execution_count": 41
        }
      ]
    },
    {
      "cell_type": "code",
      "metadata": {
        "colab": {
          "base_uri": "https://localhost:8080/"
        },
        "id": "4Lc8_xxgnu5B",
        "outputId": "a7e0b985-a60d-425c-b8b7-58b0e315cd1c"
      },
      "source": [
        "for val in b:\n",
        "  print ('\\nМинимум =',np.min(val),\n",
        "         '\\nМаксимум =',np.max(val),\n",
        "         '\\nМедиана =',np.median(val),\n",
        "         '\\nСреднее значение =',np.mean(val),\n",
        "         '\\nПерсентиль 0.25 =',np.percentile(val, 25),\n",
        "         '\\nПерсентиль 0.75 =',np.percentile(val, 75))"
      ],
      "execution_count": null,
      "outputs": [
        {
          "output_type": "stream",
          "name": "stdout",
          "text": [
            "\n",
            "Минимум = 5.006 \n",
            "Максимум = 6.587999999999998 \n",
            "Медиана = 5.936 \n",
            "Среднее значение = 5.843333333333333 \n",
            "Персентиль 0.25 = 5.471 \n",
            "Персентиль 0.75 = 6.261999999999999\n",
            "\n",
            "Минимум = 2.7700000000000005 \n",
            "Максимум = 3.418 \n",
            "Медиана = 2.974 \n",
            "Среднее значение = 3.0540000000000003 \n",
            "Персентиль 0.25 = 2.8720000000000003 \n",
            "Персентиль 0.75 = 3.196\n",
            "\n",
            "Минимум = 0.244 \n",
            "Максимум = 2.0260000000000002 \n",
            "Медиана = 1.3259999999999998 \n",
            "Среднее значение = 1.1986666666666668 \n",
            "Персентиль 0.25 = 0.7849999999999999 \n",
            "Персентиль 0.75 = 1.6760000000000002\n"
          ]
        }
      ]
    },
    {
      "cell_type": "code",
      "metadata": {
        "colab": {
          "base_uri": "https://localhost:8080/",
          "height": 297
        },
        "id": "GBW7tma5oL1s",
        "outputId": "c81da499-113b-424d-eef5-b2d528a0e07f"
      },
      "source": [
        "fig, ((aw1, aw2),(aw3, aw4)) = plt.subplots(nrows=2, ncols=2)\n",
        "aw1.hist(new_1)\n",
        "aw1.set_title('Гистограмма для atr1_new_1')\n",
        "\n",
        "aw2.hist(new_2)\n",
        "aw2.set_title('Гистограмма для atr2_new_2')\n",
        "\n",
        "aw3.hist(new_3)\n",
        "aw3.set_title('Гистограмма для atr3_new_3')\n",
        "\n",
        "fig.tight_layout()\n",
        "plt.show()"
      ],
      "execution_count": null,
      "outputs": [
        {
          "output_type": "display_data",
          "data": {
            "image/png": "[encoded data removed]",
            "text/plain": [
              "<Figure size 432x288 with 4 Axes>"
            ]
          },
          "metadata": {
            "needs_background": "light"
          }
        }
      ]
    }
  ]
}